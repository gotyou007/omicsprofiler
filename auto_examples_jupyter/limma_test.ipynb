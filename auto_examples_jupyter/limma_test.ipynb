{
 "cells": [
  {
   "cell_type": "code",
   "execution_count": 1,
   "metadata": {},
   "outputs": [],
   "source": [
    "import sys\n",
    "#import click\n",
    "import numpy as np\n",
    "import pandas as pd\n",
    "import rpy2.robjects as ro\n",
    "#from rpy2.rinterface import RRuntimeError\n",
    "from rpy2.robjects import pandas2ri, Formula\n",
    "from rpy2.robjects.conversion import localconverter\n",
    "from rpy2.robjects.packages import importr\n",
    "from statsmodels.stats.multitest import multipletests"
   ]
  },
  {
   "cell_type": "code",
   "execution_count": 1,
   "metadata": {},
   "outputs": [],
   "source": [
    "import os\n",
    "os.environ['R_HOME'] = '/Library/Frameworks/R.framework/Resources/R'"
   ]
  },
  {
   "cell_type": "code",
   "execution_count": 2,
   "metadata": {},
   "outputs": [
    {
     "name": "stdout",
     "output_type": "stream",
     "text": [
      "/usr/local/bin/R\n"
     ]
    }
   ],
   "source": [
    "!which R"
   ]
  },
  {
   "cell_type": "code",
   "execution_count": 10,
   "metadata": {},
   "outputs": [
    {
     "ename": "PackageNotInstalledError",
     "evalue": "The R package \"writexl\" is not installed.",
     "output_type": "error",
     "traceback": [
      "\u001b[0;31m---------------------------------------------------------------------------\u001b[0m",
      "\u001b[0;31mPackageNotInstalledError\u001b[0m                  Traceback (most recent call last)",
      "Cell \u001b[0;32mIn[10], line 5\u001b[0m\n\u001b[1;32m      3\u001b[0m stats \u001b[39m=\u001b[39m importr(\u001b[39m'\u001b[39m\u001b[39mstats\u001b[39m\u001b[39m'\u001b[39m)\n\u001b[1;32m      4\u001b[0m limma \u001b[39m=\u001b[39m importr(\u001b[39m'\u001b[39m\u001b[39mlimma\u001b[39m\u001b[39m'\u001b[39m)\n\u001b[0;32m----> 5\u001b[0m writexl \u001b[39m=\u001b[39m importr(\u001b[39m'\u001b[39;49m\u001b[39mwritexl\u001b[39;49m\u001b[39m'\u001b[39;49m)\n",
      "File \u001b[0;32m~/miniconda3/envs/pydeseq2/lib/python3.11/site-packages/rpy2/robjects/packages.py:472\u001b[0m, in \u001b[0;36mimportr\u001b[0;34m(name, lib_loc, robject_translations, signature_translation, suppress_messages, on_conflict, symbol_r2python, symbol_resolve, data)\u001b[0m\n\u001b[1;32m    440\u001b[0m \u001b[39m\u001b[39m\u001b[39m\"\"\" Import an R package.\u001b[39;00m\n\u001b[1;32m    441\u001b[0m \n\u001b[1;32m    442\u001b[0m \u001b[39mArguments:\u001b[39;00m\n\u001b[0;32m   (...)\u001b[0m\n\u001b[1;32m    468\u001b[0m \n\u001b[1;32m    469\u001b[0m \u001b[39m\"\"\"\u001b[39;00m\n\u001b[1;32m    471\u001b[0m \u001b[39mif\u001b[39;00m \u001b[39mnot\u001b[39;00m isinstalled(name, lib_loc\u001b[39m=\u001b[39mlib_loc):\n\u001b[0;32m--> 472\u001b[0m     \u001b[39mraise\u001b[39;00m PackageNotInstalledError(\n\u001b[1;32m    473\u001b[0m         \u001b[39m'\u001b[39m\u001b[39mThe R package \u001b[39m\u001b[39m\"\u001b[39m\u001b[39m%s\u001b[39;00m\u001b[39m\"\u001b[39m\u001b[39m is not installed.\u001b[39m\u001b[39m'\u001b[39m \u001b[39m%\u001b[39m name\n\u001b[1;32m    474\u001b[0m     )\n\u001b[1;32m    476\u001b[0m \u001b[39mif\u001b[39;00m suppress_messages:\n\u001b[1;32m    477\u001b[0m     ok \u001b[39m=\u001b[39m quiet_require(name, lib_loc\u001b[39m=\u001b[39mlib_loc)\n",
      "\u001b[0;31mPackageNotInstalledError\u001b[0m: The R package \"writexl\" is not installed."
     ]
    }
   ],
   "source": [
    "#Import R libraries\n",
    "base = importr('base')\n",
    "stats = importr('stats')\n",
    "limma = importr('limma')\n",
    "writexl = importr('writexl')"
   ]
  }
 ],
 "metadata": {
  "kernelspec": {
   "display_name": "pydeseq2",
   "language": "python",
   "name": "python3"
  },
  "language_info": {
   "codemirror_mode": {
    "name": "ipython",
    "version": 3
   },
   "file_extension": ".py",
   "mimetype": "text/x-python",
   "name": "python",
   "nbconvert_exporter": "python",
   "pygments_lexer": "ipython3",
   "version": "3.11.5"
  },
  "orig_nbformat": 4
 },
 "nbformat": 4,
 "nbformat_minor": 2
}
